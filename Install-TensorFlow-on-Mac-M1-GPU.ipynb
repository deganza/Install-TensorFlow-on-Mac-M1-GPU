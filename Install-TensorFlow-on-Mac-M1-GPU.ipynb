{
 "cells": [
  {
   "cell_type": "markdown",
   "id": "909a730c",
   "metadata": {},
   "source": [
    "# Install TensorFlow on Mac M1/M2 with GPU support\n",
    "Install TensorFlow in a few steps on Mac M1/M2 with GPU support and benefit <br>\n",
    "from the native performance of the new Mac Silicon ARM64 architecture.\n",
    "\n",
    "The article to this project is published on Medium:\n",
    "\n"
   ]
  },
  {
   "cell_type": "markdown",
   "id": "21e02528",
   "metadata": {},
   "source": [
    "## 1. Install Xcode Command Line Tool\n",
    "If it's not already installed in your system, you can install it by running the following command below in your Mac OSX terminal.\n",
    "\n",
    "xcode-select --install"
   ]
  },
  {
   "cell_type": "markdown",
   "id": "cd354451",
   "metadata": {},
   "source": [
    "## 2. Install the M1 Miniconda Version\n",
    "Miniconda is the minimal set of features from the extensive Anaconda Python distribution and includes many of the data science related packages that are needed by this class. Download the Miniconda3 macOS Apple M1 64-bit.pkg and install it on your Application directory. <br><br>\n",
    "<b>Miniconda3 </b> download: https://docs.conda.io/en/latest/miniconda.html"
   ]
  },
  {
   "cell_type": "markdown",
   "id": "724def27",
   "metadata": {},
   "source": [
    "## 3. Install TensorFlow\n",
    "Change to the Application/miniconda3 directory in your terminal with:\n",
    "\n",
    "cd /Applications/miniconda3"
   ]
  },
  {
   "cell_type": "markdown",
   "id": "1011ed9a",
   "metadata": {},
   "source": [
    "### Install the TensorFlow dependencies:"
   ]
  },
  {
   "cell_type": "code",
   "execution_count": null,
   "id": "370266e8",
   "metadata": {},
   "outputs": [],
   "source": [
    "conda install -c apple tensorflow-deps"
   ]
  },
  {
   "cell_type": "markdown",
   "id": "08bcb467",
   "metadata": {},
   "source": [
    "### Install base TensorFlow:"
   ]
  },
  {
   "cell_type": "code",
   "execution_count": null,
   "id": "959e4fc0",
   "metadata": {},
   "outputs": [],
   "source": [
    "pip install tensorflow-macos"
   ]
  },
  {
   "cell_type": "markdown",
   "id": "c47a18fc",
   "metadata": {},
   "source": [
    "### Install Metal plugin:"
   ]
  },
  {
   "cell_type": "code",
   "execution_count": null,
   "id": "f0f7286f",
   "metadata": {},
   "outputs": [],
   "source": [
    "pip install tensorflow-metal"
   ]
  },
  {
   "cell_type": "markdown",
   "id": "e682c645",
   "metadata": {},
   "source": [
    "##  4. Install Jupyter Notebook and common packages\n",
    "\n",
    "Install first Jupyter Notebook:"
   ]
  },
  {
   "cell_type": "code",
   "execution_count": null,
   "id": "d8c017c0",
   "metadata": {},
   "outputs": [],
   "source": [
    "conda install notebook -y"
   ]
  },
  {
   "cell_type": "markdown",
   "id": "a4dbf3e2",
   "metadata": {},
   "source": [
    "Now install common additional packages and upgrade the packages so that they are updated to the M1 architecture."
   ]
  },
  {
   "cell_type": "code",
   "execution_count": null,
   "id": "bd09bb67",
   "metadata": {},
   "outputs": [],
   "source": [
    "pip install numpy  --upgrade\n",
    "pip install pandas  --upgrade\n",
    "pip install matplotlib  --upgrade\n",
    "pip install scikit-learn  --upgrade\n",
    "pip install scipy  --upgrade\n",
    "pip install plotly  --upgrade"
   ]
  },
  {
   "cell_type": "markdown",
   "id": "2f6e721a",
   "metadata": {},
   "source": [
    "Start now Jupyter Notebook in your desired working directory <br>\n",
    "(change \"/Users/Jupyterfiles\" with your working directory path)"
   ]
  },
  {
   "cell_type": "code",
   "execution_count": null,
   "id": "6ad1cecf",
   "metadata": {},
   "outputs": [],
   "source": [
    "jupyter notebook --notebook-dir=\"/Users/Jupyterfiles\""
   ]
  },
  {
   "cell_type": "markdown",
   "id": "6ad0c4f6",
   "metadata": {},
   "source": [
    "## 5. Check GPU availability"
   ]
  },
  {
   "cell_type": "code",
   "execution_count": 1,
   "id": "19226815",
   "metadata": {},
   "outputs": [
    {
     "name": "stdout",
     "output_type": "stream",
     "text": [
      "Python Platform: macOS-12.5-arm64-arm-64bit\n",
      "Tensor Flow Version: 2.9.2\n",
      "Keras Version: 2.9.0\n",
      "\n",
      "Python 3.9.12 (main, Apr  5 2022, 01:52:34) \n",
      "[Clang 12.0.0 ]\n",
      "Pandas 1.4.4\n",
      "Scikit-Learn 1.1.2\n",
      "SciPy 1.9.1\n",
      "GPU is available\n"
     ]
    }
   ],
   "source": [
    "import sys\n",
    "\n",
    "import tensorflow.keras\n",
    "import pandas as pd\n",
    "import sklearn as sk\n",
    "import scipy as sp\n",
    "import tensorflow as tf\n",
    "import platform\n",
    "\n",
    "print(f\"Python Platform: {platform.platform()}\")\n",
    "print(f\"Tensor Flow Version: {tf.__version__}\")\n",
    "print(f\"Keras Version: {tensorflow.keras.__version__}\")\n",
    "print()\n",
    "print(f\"Python {sys.version}\")\n",
    "print(f\"Pandas {pd.__version__}\")\n",
    "print(f\"Scikit-Learn {sk.__version__}\")\n",
    "print(f\"SciPy {sp.__version__}\")\n",
    "gpu = len(tf.config.list_physical_devices('GPU'))>0\n",
    "print(\"GPU is\", \"available\" if gpu else \"NOT AVAILABLE\")"
   ]
  },
  {
   "cell_type": "code",
   "execution_count": null,
   "id": "01ec1d31",
   "metadata": {},
   "outputs": [],
   "source": []
  }
 ],
 "metadata": {
  "kernelspec": {
   "display_name": "Python 3 (ipykernel)",
   "language": "python",
   "name": "python3"
  },
  "language_info": {
   "codemirror_mode": {
    "name": "ipython",
    "version": 3
   },
   "file_extension": ".py",
   "mimetype": "text/x-python",
   "name": "python",
   "nbconvert_exporter": "python",
   "pygments_lexer": "ipython3",
   "version": "3.9.12"
  }
 },
 "nbformat": 4,
 "nbformat_minor": 5
}
